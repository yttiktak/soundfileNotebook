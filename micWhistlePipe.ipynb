{
 "cells": [
  {
   "cell_type": "code",
   "execution_count": 1,
   "metadata": {},
   "outputs": [
    {
     "name": "stderr",
     "output_type": "stream",
     "text": [
      "/home/roberta/.local/lib/python3.6/site-packages/tensorflow/python/framework/dtypes.py:526: FutureWarning: Passing (type, 1) or '1type' as a synonym of type is deprecated; in a future version of numpy, it will be understood as (type, (1,)) / '(1,)type'.\n",
      "  _np_qint8 = np.dtype([(\"qint8\", np.int8, 1)])\n",
      "/home/roberta/.local/lib/python3.6/site-packages/tensorflow/python/framework/dtypes.py:527: FutureWarning: Passing (type, 1) or '1type' as a synonym of type is deprecated; in a future version of numpy, it will be understood as (type, (1,)) / '(1,)type'.\n",
      "  _np_quint8 = np.dtype([(\"quint8\", np.uint8, 1)])\n",
      "/home/roberta/.local/lib/python3.6/site-packages/tensorflow/python/framework/dtypes.py:528: FutureWarning: Passing (type, 1) or '1type' as a synonym of type is deprecated; in a future version of numpy, it will be understood as (type, (1,)) / '(1,)type'.\n",
      "  _np_qint16 = np.dtype([(\"qint16\", np.int16, 1)])\n",
      "/home/roberta/.local/lib/python3.6/site-packages/tensorflow/python/framework/dtypes.py:529: FutureWarning: Passing (type, 1) or '1type' as a synonym of type is deprecated; in a future version of numpy, it will be understood as (type, (1,)) / '(1,)type'.\n",
      "  _np_quint16 = np.dtype([(\"quint16\", np.uint16, 1)])\n",
      "/home/roberta/.local/lib/python3.6/site-packages/tensorflow/python/framework/dtypes.py:530: FutureWarning: Passing (type, 1) or '1type' as a synonym of type is deprecated; in a future version of numpy, it will be understood as (type, (1,)) / '(1,)type'.\n",
      "  _np_qint32 = np.dtype([(\"qint32\", np.int32, 1)])\n",
      "/home/roberta/.local/lib/python3.6/site-packages/tensorflow/python/framework/dtypes.py:535: FutureWarning: Passing (type, 1) or '1type' as a synonym of type is deprecated; in a future version of numpy, it will be understood as (type, (1,)) / '(1,)type'.\n",
      "  np_resource = np.dtype([(\"resource\", np.ubyte, 1)])\n"
     ]
    }
   ],
   "source": [
    "import os, tempfile\n",
    "import numpy as np\n",
    "import matplotlib.pyplot as plt\n",
    "from scipy import signal\n",
    "import pandas as pd\n",
    "import tensorflow as tf\n",
    "from tensorflow.keras.models import load_model\n",
    "\n",
    "import sys,time\n",
    "from pathlib import Path\n",
    "\n",
    "path = \"/tmp/mypipe\"\n",
    "my_file = Path(path)\n",
    "if my_file.exists():\n",
    "    os.unlink(path)\n",
    "y = 0    \n",
    "#from matplotlib.animation import FuncAnimation\n",
    "\n"
   ]
  },
  {
   "cell_type": "code",
   "execution_count": 2,
   "metadata": {},
   "outputs": [
    {
     "name": "stdout",
     "output_type": "stream",
     "text": [
      "None\n"
     ]
    }
   ],
   "source": [
    "try:\n",
    "    result = os.mkfifo(path)\n",
    "    print(result)\n",
    "except:\n",
    "    print(\"failed to make fifo\")\n",
    "    pass"
   ]
  },
  {
   "cell_type": "code",
   "execution_count": null,
   "metadata": {},
   "outputs": [
    {
     "name": "stdout",
     "output_type": "stream",
     "text": [
      "starting it\n"
     ]
    }
   ],
   "source": [
    "print(\"starting it\")\n",
    "\n",
    "try:\n",
    "    fifo = open(path, \"w\")\n",
    "    print(\"ya got past that open, but now??\")\n",
    "except Exception as e:\n",
    "    print (e)\n",
    "    sys.exit()   "
   ]
  },
  {
   "cell_type": "code",
   "execution_count": 4,
   "metadata": {},
   "outputs": [
    {
     "name": "stdout",
     "output_type": "stream",
     "text": [
      "WARNING:tensorflow:From /home/roberta/.local/lib/python3.6/site-packages/tensorflow/python/ops/resource_variable_ops.py:435: colocate_with (from tensorflow.python.framework.ops) is deprecated and will be removed in a future version.\n",
      "Instructions for updating:\n",
      "Colocations handled automatically by placer.\n",
      "WARNING:tensorflow:From /home/roberta/.local/lib/python3.6/site-packages/tensorflow/python/keras/layers/core.py:143: calling dropout (from tensorflow.python.ops.nn_ops) with keep_prob is deprecated and will be removed in a future version.\n",
      "Instructions for updating:\n",
      "Please use `rate` instead of `keep_prob`. Rate should be set to `rate = 1 - keep_prob`.\n",
      "WARNING:tensorflow:From /home/roberta/.local/lib/python3.6/site-packages/tensorflow/python/ops/math_ops.py:3066: to_int32 (from tensorflow.python.ops.math_ops) is deprecated and will be removed in a future version.\n",
      "Instructions for updating:\n",
      "Use tf.cast instead.\n"
     ]
    }
   ],
   "source": [
    "model10 = load_model(\"whistle3.hd5\")\n",
    "modelT = load_model(\"whistle5.hd5\")"
   ]
  },
  {
   "cell_type": "code",
   "execution_count": 5,
   "metadata": {},
   "outputs": [],
   "source": [
    "import sounddevice as sd\n",
    "import queue\n",
    "\n",
    "chunk_length = (300+350) * 64 + 1024\n",
    "pre_trigger = 110\n",
    "chunk = np.zeros((chunk_length,1),dtype='float32')\n",
    "chunk[30:40,0] = 10.0\n",
    "recorded_length = 0;\n",
    "\n",
    "triggered = False\n",
    "captured = False\n",
    "threshold = 0.3\n",
    "\n",
    "q = queue.Queue()\n",
    "\n",
    "\n",
    "\n",
    "\n",
    "def callback(indata, frames, time, status):\n",
    "    global triggered,threshold\n",
    "    if status:\n",
    "        print(status)\n",
    "    q.put(indata[::1, [0]])    \n",
    "    if ~triggered:    \n",
    "        maxi = indata.max()\n",
    "        if maxi>threshold:\n",
    "            triggered = True\n",
    "\n",
    "def catch_sound(hits = 10,trigger_threshold = 0.071):\n",
    "    global chunk,recorded_length,triggered,threshold\n",
    "    threshold = trigger_threshold\n",
    "    \n",
    "    max_hits = hits\n",
    "    stride = 64 # int(64 * 48000/44100) \n",
    "\n",
    "    recorded_length = 0\n",
    "    triggered = False\n",
    "    instream =  sd.InputStream(channels=1, callback=callback, blocksize=1024,dtype='float32')     \n",
    "    with instream:\n",
    "        while True:\n",
    "            item = q.get()\n",
    "            if item is None:\n",
    "                continue\n",
    "            ilen = len(item)\n",
    "            chunk = np.roll(chunk, -ilen, axis=0)\n",
    "            chunk[-ilen:] = item\n",
    "            if triggered:\n",
    "                recorded_length +=ilen\n",
    "            if recorded_length > chunk_length-pre_trigger:\n",
    "                triggered = False\n",
    "                print(\"..\")\n",
    "                f, t, Sxx = signal.spectrogram(chunk[:,0], 44100.,nperseg = 512,noverlap = 512 - stride)\n",
    "                St = Sxx[0:100,0:250]\n",
    "                lsx = St/np.mean(St)\n",
    "        \n",
    "                imlru = np.reshape(lsx,(1,100,250,1))\n",
    "  \n",
    "                p1 =  model10.predict(imlru)\n",
    "                p2 = modelT.predict(np.reshape(lsx[20:50,:],(1,30,250,1)))\n",
    "\n",
    "                print(np.argmax(p1),p1[0,np.argmax(p1)])\n",
    "            \n",
    "                print(np.argmax(p2),p2[0,np.argmax(p2)])\n",
    "                \n",
    "                fifo.write(str(np.argmax(p1)))\n",
    "                fifo.flush()\n",
    "                \n",
    "                sd.play(chunk[:,0])\n",
    "                recorded_length = 0\n",
    "                max_hits -=1\n",
    "                if max_hits == 0:\n",
    "                    break\n",
    "                #break\n",
    "            q.task_done()          "
   ]
  },
  {
   "cell_type": "code",
   "execution_count": 6,
   "metadata": {
    "scrolled": false
   },
   "outputs": [
    {
     "name": "stdout",
     "output_type": "stream",
     "text": [
      "..\n",
      "5 0.19339512\n",
      "5 0.24210866\n",
      "..\n",
      "1 0.98885566\n",
      "3 0.9742454\n",
      "..\n",
      "2 0.5610951\n",
      "5 0.1623554\n",
      "..\n",
      "2 0.46535432\n",
      "5 0.16304576\n",
      "..\n",
      "4 0.23428725\n",
      "5 0.17615326\n",
      "..\n",
      "3 0.6393559\n",
      "5 0.1620063\n",
      "..\n",
      "1 0.8922575\n",
      "5 0.16123927\n",
      "..\n",
      "1 0.8762604\n",
      "5 0.16472241\n",
      "..\n",
      "1 0.99455726\n",
      "4 0.8821555\n",
      "..\n",
      "3 0.6127653\n",
      "4 0.7839675\n"
     ]
    }
   ],
   "source": [
    "catch_sound()"
   ]
  },
  {
   "cell_type": "code",
   "execution_count": null,
   "metadata": {},
   "outputs": [],
   "source": []
  },
  {
   "cell_type": "code",
   "execution_count": null,
   "metadata": {},
   "outputs": [],
   "source": []
  }
 ],
 "metadata": {
  "kernelspec": {
   "display_name": "Python 3",
   "language": "python",
   "name": "python3"
  },
  "language_info": {
   "codemirror_mode": {
    "name": "ipython",
    "version": 3
   },
   "file_extension": ".py",
   "mimetype": "text/x-python",
   "name": "python",
   "nbconvert_exporter": "python",
   "pygments_lexer": "ipython3",
   "version": "3.6.8"
  }
 },
 "nbformat": 4,
 "nbformat_minor": 2
}
