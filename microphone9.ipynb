{
 "cells": [
  {
   "cell_type": "code",
   "execution_count": 1,
   "metadata": {},
   "outputs": [
    {
     "name": "stderr",
     "output_type": "stream",
     "text": [
      "/home/roberta/.local/lib/python3.6/site-packages/tensorflow/python/framework/dtypes.py:526: FutureWarning: Passing (type, 1) or '1type' as a synonym of type is deprecated; in a future version of numpy, it will be understood as (type, (1,)) / '(1,)type'.\n",
      "  _np_qint8 = np.dtype([(\"qint8\", np.int8, 1)])\n",
      "/home/roberta/.local/lib/python3.6/site-packages/tensorflow/python/framework/dtypes.py:527: FutureWarning: Passing (type, 1) or '1type' as a synonym of type is deprecated; in a future version of numpy, it will be understood as (type, (1,)) / '(1,)type'.\n",
      "  _np_quint8 = np.dtype([(\"quint8\", np.uint8, 1)])\n",
      "/home/roberta/.local/lib/python3.6/site-packages/tensorflow/python/framework/dtypes.py:528: FutureWarning: Passing (type, 1) or '1type' as a synonym of type is deprecated; in a future version of numpy, it will be understood as (type, (1,)) / '(1,)type'.\n",
      "  _np_qint16 = np.dtype([(\"qint16\", np.int16, 1)])\n",
      "/home/roberta/.local/lib/python3.6/site-packages/tensorflow/python/framework/dtypes.py:529: FutureWarning: Passing (type, 1) or '1type' as a synonym of type is deprecated; in a future version of numpy, it will be understood as (type, (1,)) / '(1,)type'.\n",
      "  _np_quint16 = np.dtype([(\"quint16\", np.uint16, 1)])\n",
      "/home/roberta/.local/lib/python3.6/site-packages/tensorflow/python/framework/dtypes.py:530: FutureWarning: Passing (type, 1) or '1type' as a synonym of type is deprecated; in a future version of numpy, it will be understood as (type, (1,)) / '(1,)type'.\n",
      "  _np_qint32 = np.dtype([(\"qint32\", np.int32, 1)])\n",
      "/home/roberta/.local/lib/python3.6/site-packages/tensorflow/python/framework/dtypes.py:535: FutureWarning: Passing (type, 1) or '1type' as a synonym of type is deprecated; in a future version of numpy, it will be understood as (type, (1,)) / '(1,)type'.\n",
      "  np_resource = np.dtype([(\"resource\", np.ubyte, 1)])\n"
     ]
    }
   ],
   "source": [
    "import os\n",
    "import numpy as np\n",
    "import matplotlib.pyplot as plt\n",
    "from scipy import signal\n",
    "import pandas as pd\n",
    "import tensorflow as tf\n",
    "from tensorflow.keras.models import load_model\n",
    "\n",
    "\n",
    "from matplotlib.animation import FuncAnimation"
   ]
  },
  {
   "cell_type": "code",
   "execution_count": 2,
   "metadata": {},
   "outputs": [
    {
     "name": "stdout",
     "output_type": "stream",
     "text": [
      "WARNING:tensorflow:From /home/roberta/.local/lib/python3.6/site-packages/tensorflow/python/ops/resource_variable_ops.py:435: colocate_with (from tensorflow.python.framework.ops) is deprecated and will be removed in a future version.\n",
      "Instructions for updating:\n",
      "Colocations handled automatically by placer.\n",
      "WARNING:tensorflow:From /home/roberta/.local/lib/python3.6/site-packages/tensorflow/python/keras/layers/core.py:143: calling dropout (from tensorflow.python.ops.nn_ops) with keep_prob is deprecated and will be removed in a future version.\n",
      "Instructions for updating:\n",
      "Please use `rate` instead of `keep_prob`. Rate should be set to `rate = 1 - keep_prob`.\n",
      "WARNING:tensorflow:From /home/roberta/.local/lib/python3.6/site-packages/tensorflow/python/ops/math_ops.py:3066: to_int32 (from tensorflow.python.ops.math_ops) is deprecated and will be removed in a future version.\n",
      "Instructions for updating:\n",
      "Use tf.cast instead.\n",
      "WARNING:tensorflow:Error in loading the saved optimizer state. As a result, your model is starting with a freshly initialized optimizer.\n"
     ]
    }
   ],
   "source": [
    "model10 = load_model(\"FinchModel10c.hd5\")\n",
    "model10.load_weights('FinchModel10c.h5')\n",
    "cddf = pd.read_csv(\"FinchModel10.csv\")"
   ]
  },
  {
   "cell_type": "code",
   "execution_count": 3,
   "metadata": {},
   "outputs": [],
   "source": [
    "import sounddevice as sd\n",
    "import queue\n",
    "\n",
    "chunk_length = 350 * 64 + 1024\n",
    "pre_trigger = 110\n",
    "chunk = np.zeros((chunk_length,1),dtype='float32')\n",
    "chunk[30:40,0] = 10.0\n",
    "recorded_length = 0;\n",
    "\n",
    "triggered = False\n",
    "captured = False\n",
    "\n",
    "q = queue.Queue()\n",
    "\n",
    "\n",
    "\n",
    "\n",
    "def callback(indata, frames, time, status):\n",
    "    global triggered\n",
    "    if status:\n",
    "        print(status)\n",
    "    q.put(indata[::1, [0]])    \n",
    "    if ~triggered:    \n",
    "        maxi = indata.max()\n",
    "        if maxi>.58:\n",
    "            triggered = True\n",
    "\n",
    "def catch_sound():\n",
    "    global chunk,recorded_length,triggered\n",
    "    \n",
    "    max_hits = 3\n",
    "    stride = int(64 * 48000/44100) \n",
    "    \n",
    "    plt.ion()\n",
    "    fig = plt.figure(figsize=(20,20))\n",
    "    graph1 = fig.add_subplot(211)\n",
    "    #graph2 = f.add_subplot(212,sharex=graph1)\n",
    "    \n",
    "    f, t, Sxx = signal.spectrogram(chunk[:,0], 44100.,nperseg = 512,noverlap = 512 - stride)\n",
    "    St = np.transpose(Sxx[20:170,0:230])\n",
    "    lsx = np.log10((1+10000.*St)/np.max(St))\n",
    "    spim = graph1.matshow(np.transpose(lsx),origin='lower')\n",
    "    plt.show()\n",
    "    \n",
    "\n",
    "\n",
    "    recorded_length = 0\n",
    "    triggered = False\n",
    "    instream =  sd.InputStream(channels=1, callback=callback, blocksize=1024,dtype='float32')     \n",
    "    with instream:\n",
    "        while True:\n",
    "            item = q.get()\n",
    "            if item is None:\n",
    "                continue\n",
    "            ilen = len(item)\n",
    "            chunk = np.roll(chunk, -ilen, axis=0)\n",
    "            chunk[-ilen:] = item\n",
    "            if triggered:\n",
    "                recorded_length +=ilen\n",
    "            if recorded_length > chunk_length-pre_trigger:\n",
    "                triggered = False\n",
    "                graph1.clear()\n",
    "                f, t, Sxx = signal.spectrogram(chunk[:,0], 44100.,nperseg = 512,noverlap = 512 - stride)\n",
    "                St = np.transpose(Sxx[20:170,0:230])\n",
    "                lsx = np.log10((1+10000.*St)/np.max(St))\n",
    "\n",
    "\n",
    "                #graph1.matshow(np.transpose(lsx),origin='lower')\n",
    "                spim.set_data(np.transpose(lsx))\n",
    "                fig.canvas.draw()\n",
    "                fig.canvas.flush_events()\n",
    "                \n",
    "                imlru = np.reshape(lsx,(1,230,150,1))\n",
    "\n",
    "                p1 =  model10.predict(imlru/np.max(imlru))\n",
    "                #plt.figure(1)\n",
    "                #plt.figure(clear=True)\n",
    "                #graph1.plot(p1[0,:])\n",
    "                recorded_length = 0\n",
    "                max_hits -=1\n",
    "                if max_hits < 0:\n",
    "                    break\n",
    "            q.task_done()"
   ]
  },
  {
   "cell_type": "code",
   "execution_count": 4,
   "metadata": {
    "scrolled": false
   },
   "outputs": [
    {
     "data": {
      "image/png": "[encoded data removed]",
      "text/plain": [
       "<Figure size 1440x1440 with 1 Axes>"
      ]
     },
     "metadata": {
      "needs_background": "light"
     },
     "output_type": "display_data"
    },
    {
     "name": "stdout",
     "output_type": "stream",
     "text": [
      "more ?\n"
     ]
    },
    {
     "data": {
      "image/png": "[encoded data removed]",
      "text/plain": [
       "<Figure size 1440x1440 with 1 Axes>"
      ]
     },
     "metadata": {
      "needs_background": "light"
     },
     "output_type": "display_data"
    }
   ],
   "source": [
    "catch_sound()\n",
    "print('more ?')"
   ]
  },
  {
   "cell_type": "code",
   "execution_count": null,
   "metadata": {},
   "outputs": [],
   "source": []
  }
 ],
 "metadata": {
  "kernelspec": {
   "display_name": "Python 3",
   "language": "python",
   "name": "python3"
  },
  "language_info": {
   "codemirror_mode": {
    "name": "ipython",
    "version": 3
   },
   "file_extension": ".py",
   "mimetype": "text/x-python",
   "name": "python",
   "nbconvert_exporter": "python",
   "pygments_lexer": "ipython3",
   "version": "3.6.8"
  }
 },
 "nbformat": 4,
 "nbformat_minor": 2
}
